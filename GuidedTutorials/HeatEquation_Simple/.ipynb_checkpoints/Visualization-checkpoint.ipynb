{
 "cells": [
  {
   "cell_type": "markdown",
   "id": "839a3961",
   "metadata": {},
   "source": [
    "## Example: 3D Heat Equation\n",
    "\n",
    "### What Features Are We Using\n",
    "\n",
    "* Mesh data \n",
    "* Domain Decomposition\n",
    "\n",
    "We now look at a more complicated example at and show how simulation results\n",
    "can be visualized. This example solves the heat equation,\n",
    "\n",
    "$$\\frac{\\partial\\phi}{\\partial t} = \\nabla^2\\phi$$\n",
    "\n",
    "using forward Euler temporal integration on a periodic domain.  We could use a\n",
    "5-point (in 2D) or 7-point (in 3D) stencil, but for demonstration purposes we\n",
    "spatially discretize the PDE by first constructing (negative) fluxes on cell faces, e.g.,\n",
    "\n",
    "$$F_{i+^1\\!/_2,\\,j} = \\frac{\\phi_{i+1,j}-\\phi_{i,j}}{\\Delta x}$$\n",
    "\n",
    "and then taking the divergence to update the cells:\n",
    "\n",
    "   $$\\phi_{i,\\,j}^{n+1} = \\phi_{i,\\,j}^n\n",
    "   + \\frac{\\Delta t}{\\Delta x}\\left(F_{i+^1\\!/_2,\\,j}-F_{i-^1\\!/_2,\\,j}\\right)\n",
    "   + \\frac{\\Delta t}{\\Delta y}\\left(F_{i,\\,j+^1\\!/_2}-F_{i,\\,j-^1\\!/_2}\\right)$$"
   ]
  },
  {
   "cell_type": "markdown",
   "id": "08b4ec5f",
   "metadata": {},
   "source": [
    "The code to generate the initial condition is in `mykernel.H` and looks like: \n",
    "```C++\n",
    "{\n",
    "    Real x = prob_lo[0] + (i+Real(0.5)) * dx[0];\n",
    "    Real y = prob_lo[1] + (j+Real(0.5)) * dx[1];\n",
    "    Real z = prob_lo[2] + (k+Real(0.5)) * dx[2];\n",
    "    Real r2 = ((x-Real(0.25))*(x-Real(0.25))+(y-Real(0.25))*(y-Real(0.25))+(z-Real(0.25))*(z-Real(0.25)))/Real(0.01);\n",
    "    phi(i,j,k) = Real(1.) + std::exp(-r2);\n",
    "}\n",
    "```"
   ]
  },
  {
   "cell_type": "markdown",
   "id": "33bd71f2",
   "metadata": {},
   "source": [
    "## Running the code\n",
    "\n",
    "The simulation can be ran as `./03_HeatEquation inputs`. \n",
    "\n",
    "The following inputs parameters could be tweaked:\n",
    "\n",
    "```\n",
    "nsteps        = 1000              # number of time steps to take\n",
    "plot_int      = 100               # write plots every n steps\n",
    "n_cell        = 128               # number of cells in the domain\n",
    "max_grid_size = 64                # max grid size used for domain decomposition\n",
    "\n",
    "```\n",
    "\n",
    "Although we are running this example in serial, we decompose the domain into multiple boxes, anticipating more complicated problems where we have mesh refinement:\n",
    "\n",
    "```C++\n",
    "        IntVect dom_lo(AMREX_D_DECL(       0,        0,        0));\n",
    "        IntVect dom_hi(AMREX_D_DECL(n_cell-1, n_cell-1, n_cell-1));\n",
    "        Box domain(dom_lo, dom_hi);\n",
    "\n",
    "        // Initialize the boxarray \"ba\" from the single box \"bx\"\n",
    "        ba.define(domain);\n",
    "        // Break up boxarray \"ba\" into chunks no larger than \"max_grid_size\" along a direction\n",
    "        ba.maxSize(max_grid_size);\n",
    "\n",
    "```"
   ]
  },
  {
   "cell_type": "markdown",
   "id": "b772b897",
   "metadata": {},
   "source": [
    "## Visualizating the results\n",
    "\n",
    "Below we give some python code to visualizate the solution using yt:"
   ]
  },
  {
   "cell_type": "code",
   "execution_count": 5,
   "id": "29609c78",
   "metadata": {
    "scrolled": true
   },
   "outputs": [],
   "source": [
    "import yt\n",
    "from yt.frontends.boxlib.data_structures import AMReXDataset"
   ]
  },
  {
   "cell_type": "code",
   "execution_count": 2,
   "id": "18ec883c",
   "metadata": {},
   "outputs": [
    {
     "name": "stdout",
     "output_type": "stream",
     "text": [
      "Visualization-checkpoint.ipynb\n"
     ]
    }
   ],
   "source": [
    "ls"
   ]
  },
  {
   "cell_type": "code",
   "execution_count": 8,
   "id": "cb533aa1",
   "metadata": {},
   "outputs": [
    {
     "ename": "FileNotFoundError",
     "evalue": "[Errno 2] No such file or directory: '/Users/kenshin/Codes/amrex/amrex-tutorials/GuidedTutorials/HeatEquation_Simple/.ipynb_checkpoints/build/plt00000/Header'",
     "output_type": "error",
     "traceback": [
      "\u001b[0;31m---------------------------------------------------------------------------\u001b[0m",
      "\u001b[0;31mFileNotFoundError\u001b[0m                         Traceback (most recent call last)",
      "Cell \u001b[0;32mIn[8], line 1\u001b[0m\n\u001b[0;32m----> 1\u001b[0m ds \u001b[39m=\u001b[39m AMReXDataset(\u001b[39m\"\u001b[39;49m\u001b[39m./build/plt00000\u001b[39;49m\u001b[39m\"\u001b[39;49m)\n",
      "File \u001b[0;32m~/.pyenv/versions/3.9.9/envs/amrex/lib/python3.9/site-packages/yt/frontends/boxlib/data_structures.py:1628\u001b[0m, in \u001b[0;36mAMReXDataset.__init__\u001b[0;34m(self, output_dir, cparam_filename, fparam_filename, dataset_type, storage_filename, units_override, unit_system, default_species_fields)\u001b[0m\n\u001b[1;32m   1616\u001b[0m \u001b[39mdef\u001b[39;00m \u001b[39m__init__\u001b[39m(\n\u001b[1;32m   1617\u001b[0m     \u001b[39mself\u001b[39m,\n\u001b[1;32m   1618\u001b[0m     output_dir,\n\u001b[0;32m   (...)\u001b[0m\n\u001b[1;32m   1625\u001b[0m     default_species_fields\u001b[39m=\u001b[39m\u001b[39mNone\u001b[39;00m,\n\u001b[1;32m   1626\u001b[0m ):\n\u001b[0;32m-> 1628\u001b[0m     \u001b[39msuper\u001b[39;49m()\u001b[39m.\u001b[39;49m\u001b[39m__init__\u001b[39;49m(\n\u001b[1;32m   1629\u001b[0m         output_dir,\n\u001b[1;32m   1630\u001b[0m         cparam_filename,\n\u001b[1;32m   1631\u001b[0m         fparam_filename,\n\u001b[1;32m   1632\u001b[0m         dataset_type,\n\u001b[1;32m   1633\u001b[0m         storage_filename,\n\u001b[1;32m   1634\u001b[0m         units_override,\n\u001b[1;32m   1635\u001b[0m         unit_system,\n\u001b[1;32m   1636\u001b[0m         default_species_fields\u001b[39m=\u001b[39;49mdefault_species_fields,\n\u001b[1;32m   1637\u001b[0m     )\n",
      "File \u001b[0;32m~/.pyenv/versions/3.9.9/envs/amrex/lib/python3.9/site-packages/yt/frontends/boxlib/data_structures.py:666\u001b[0m, in \u001b[0;36mBoxlibDataset.__init__\u001b[0;34m(self, output_dir, cparam_filename, fparam_filename, dataset_type, storage_filename, units_override, unit_system, default_species_fields)\u001b[0m\n\u001b[1;32m    663\u001b[0m \u001b[39mself\u001b[39m\u001b[39m.\u001b[39mfparam_filename \u001b[39m=\u001b[39m \u001b[39mself\u001b[39m\u001b[39m.\u001b[39m_localize_check(fparam_filename)\n\u001b[1;32m    664\u001b[0m \u001b[39mself\u001b[39m\u001b[39m.\u001b[39mstorage_filename \u001b[39m=\u001b[39m storage_filename\n\u001b[0;32m--> 666\u001b[0m Dataset\u001b[39m.\u001b[39;49m\u001b[39m__init__\u001b[39;49m(\n\u001b[1;32m    667\u001b[0m     \u001b[39mself\u001b[39;49m,\n\u001b[1;32m    668\u001b[0m     output_dir,\n\u001b[1;32m    669\u001b[0m     dataset_type,\n\u001b[1;32m    670\u001b[0m     units_override\u001b[39m=\u001b[39;49munits_override,\n\u001b[1;32m    671\u001b[0m     unit_system\u001b[39m=\u001b[39;49munit_system,\n\u001b[1;32m    672\u001b[0m     default_species_fields\u001b[39m=\u001b[39;49mdefault_species_fields,\n\u001b[1;32m    673\u001b[0m )\n\u001b[1;32m    675\u001b[0m \u001b[39m# These are still used in a few places.\u001b[39;00m\n\u001b[1;32m    676\u001b[0m \u001b[39mif\u001b[39;00m \u001b[39m\"\u001b[39m\u001b[39mHydroMethod\u001b[39m\u001b[39m\"\u001b[39m \u001b[39mnot\u001b[39;00m \u001b[39min\u001b[39;00m \u001b[39mself\u001b[39m\u001b[39m.\u001b[39mparameters\u001b[39m.\u001b[39mkeys():\n",
      "File \u001b[0;32m~/.pyenv/versions/3.9.9/envs/amrex/lib/python3.9/site-packages/yt/data_objects/static_output.py:261\u001b[0m, in \u001b[0;36mDataset.__init__\u001b[0;34m(self, filename, dataset_type, units_override, unit_system, default_species_fields)\u001b[0m\n\u001b[1;32m    257\u001b[0m     used_unit_system \u001b[39m=\u001b[39m unit_system\n\u001b[1;32m    259\u001b[0m \u001b[39mself\u001b[39m\u001b[39m.\u001b[39m_create_unit_registry(used_unit_system)\n\u001b[0;32m--> 261\u001b[0m \u001b[39mself\u001b[39;49m\u001b[39m.\u001b[39;49m_parse_parameter_file()\n\u001b[1;32m    262\u001b[0m \u001b[39mself\u001b[39m\u001b[39m.\u001b[39mset_units()\n\u001b[1;32m    263\u001b[0m \u001b[39mself\u001b[39m\u001b[39m.\u001b[39msetup_cosmology()\n",
      "File \u001b[0;32m~/.pyenv/versions/3.9.9/envs/amrex/lib/python3.9/site-packages/yt/frontends/boxlib/data_structures.py:1640\u001b[0m, in \u001b[0;36mAMReXDataset._parse_parameter_file\u001b[0;34m(self)\u001b[0m\n\u001b[1;32m   1639\u001b[0m \u001b[39mdef\u001b[39;00m \u001b[39m_parse_parameter_file\u001b[39m(\u001b[39mself\u001b[39m):\n\u001b[0;32m-> 1640\u001b[0m     \u001b[39msuper\u001b[39;49m()\u001b[39m.\u001b[39;49m_parse_parameter_file()\n\u001b[1;32m   1641\u001b[0m     particle_types \u001b[39m=\u001b[39m glob\u001b[39m.\u001b[39mglob(os\u001b[39m.\u001b[39mpath\u001b[39m.\u001b[39mjoin(\u001b[39mself\u001b[39m\u001b[39m.\u001b[39moutput_dir, \u001b[39m\"\u001b[39m\u001b[39m*\u001b[39m\u001b[39m\"\u001b[39m, \u001b[39m\"\u001b[39m\u001b[39mHeader\u001b[39m\u001b[39m\"\u001b[39m))\n\u001b[1;32m   1642\u001b[0m     particle_types \u001b[39m=\u001b[39m [cpt\u001b[39m.\u001b[39msplit(os\u001b[39m.\u001b[39msep)[\u001b[39m-\u001b[39m\u001b[39m2\u001b[39m] \u001b[39mfor\u001b[39;00m cpt \u001b[39min\u001b[39;00m particle_types]\n",
      "File \u001b[0;32m~/.pyenv/versions/3.9.9/envs/amrex/lib/python3.9/site-packages/yt/frontends/boxlib/data_structures.py:739\u001b[0m, in \u001b[0;36mBoxlibDataset._parse_parameter_file\u001b[0;34m(self)\u001b[0m\n\u001b[1;32m    734\u001b[0m \u001b[39m\u001b[39m\u001b[39m\"\"\"\u001b[39;00m\n\u001b[1;32m    735\u001b[0m \u001b[39mParses the parameter file and establishes the various\u001b[39;00m\n\u001b[1;32m    736\u001b[0m \u001b[39mdictionaries.\u001b[39;00m\n\u001b[1;32m    737\u001b[0m \u001b[39m\"\"\"\u001b[39;00m\n\u001b[1;32m    738\u001b[0m \u001b[39mself\u001b[39m\u001b[39m.\u001b[39m_periodicity \u001b[39m=\u001b[39m (\u001b[39mFalse\u001b[39;00m, \u001b[39mFalse\u001b[39;00m, \u001b[39mFalse\u001b[39;00m)\n\u001b[0;32m--> 739\u001b[0m \u001b[39mself\u001b[39;49m\u001b[39m.\u001b[39;49m_parse_header_file()\n\u001b[1;32m    740\u001b[0m \u001b[39m# Let's read the file\u001b[39;00m\n\u001b[1;32m    741\u001b[0m \u001b[39m# the 'inputs' file is now optional\u001b[39;00m\n\u001b[1;32m    742\u001b[0m \u001b[39mself\u001b[39m\u001b[39m.\u001b[39m_parse_cparams()\n",
      "File \u001b[0;32m~/.pyenv/versions/3.9.9/envs/amrex/lib/python3.9/site-packages/yt/frontends/boxlib/data_structures.py:822\u001b[0m, in \u001b[0;36mBoxlibDataset._parse_header_file\u001b[0;34m(self)\u001b[0m\n\u001b[1;32m    811\u001b[0m \u001b[39m\u001b[39m\u001b[39m\"\"\"\u001b[39;00m\n\u001b[1;32m    812\u001b[0m \u001b[39mWe parse the Boxlib header, which we use as our basis.  Anything in the\u001b[39;00m\n\u001b[1;32m    813\u001b[0m \u001b[39minputs file will override this, but the inputs file is not strictly\u001b[39;00m\n\u001b[1;32m    814\u001b[0m \u001b[39mnecessary for orientation of the data in space.\u001b[39;00m\n\u001b[1;32m    815\u001b[0m \u001b[39m\"\"\"\u001b[39;00m\n\u001b[1;32m    817\u001b[0m \u001b[39m# Note: Python uses a read-ahead buffer, so using next(), which would\u001b[39;00m\n\u001b[1;32m    818\u001b[0m \u001b[39m# be my preferred solution, won't work here.  We have to explicitly\u001b[39;00m\n\u001b[1;32m    819\u001b[0m \u001b[39m# call readline() if we want to end up with an offset at the very end.\u001b[39;00m\n\u001b[1;32m    820\u001b[0m \u001b[39m# Fortunately, elsewhere we don't care about the offset, so we're fine\u001b[39;00m\n\u001b[1;32m    821\u001b[0m \u001b[39m# everywhere else using iteration exclusively.\u001b[39;00m\n\u001b[0;32m--> 822\u001b[0m header_file \u001b[39m=\u001b[39m \u001b[39mopen\u001b[39;49m(os\u001b[39m.\u001b[39;49mpath\u001b[39m.\u001b[39;49mjoin(\u001b[39mself\u001b[39;49m\u001b[39m.\u001b[39;49moutput_dir, \u001b[39m\"\u001b[39;49m\u001b[39mHeader\u001b[39;49m\u001b[39m\"\u001b[39;49m))\n\u001b[1;32m    823\u001b[0m \u001b[39mself\u001b[39m\u001b[39m.\u001b[39morion_version \u001b[39m=\u001b[39m header_file\u001b[39m.\u001b[39mreadline()\u001b[39m.\u001b[39mrstrip()\n\u001b[1;32m    824\u001b[0m n_fields \u001b[39m=\u001b[39m \u001b[39mint\u001b[39m(header_file\u001b[39m.\u001b[39mreadline())\n",
      "\u001b[0;31mFileNotFoundError\u001b[0m: [Errno 2] No such file or directory: '/Users/kenshin/Codes/amrex/amrex-tutorials/GuidedTutorials/HeatEquation_Simple/.ipynb_checkpoints/build/plt00000/Header'"
     ]
    }
   ],
   "source": [
    "ds = AMReXDataset(\"./build/plt00000\")"
   ]
  },
  {
   "cell_type": "code",
   "execution_count": 7,
   "id": "2d834eaf",
   "metadata": {},
   "outputs": [
    {
     "ename": "NameError",
     "evalue": "name 'ds' is not defined",
     "output_type": "error",
     "traceback": [
      "\u001b[0;31m---------------------------------------------------------------------------\u001b[0m",
      "\u001b[0;31mNameError\u001b[0m                                 Traceback (most recent call last)",
      "Cell \u001b[0;32mIn[7], line 1\u001b[0m\n\u001b[0;32m----> 1\u001b[0m ds\u001b[39m.\u001b[39mfield_list\n",
      "\u001b[0;31mNameError\u001b[0m: name 'ds' is not defined"
     ]
    }
   ],
   "source": [
    "ds.field_list"
   ]
  },
  {
   "cell_type": "code",
   "execution_count": null,
   "id": "899767fc",
   "metadata": {},
   "outputs": [],
   "source": [
    "sl = yt.SlicePlot(ds, 2, ('boxlib', 'phi'))"
   ]
  },
  {
   "cell_type": "code",
   "execution_count": null,
   "id": "679eaca7",
   "metadata": {},
   "outputs": [],
   "source": [
    "sl"
   ]
  },
  {
   "cell_type": "code",
   "execution_count": null,
   "id": "72af42b5",
   "metadata": {},
   "outputs": [],
   "source": [
    "ds = AMReXDataset(\"plt01000\")\n",
    "sl = yt.SlicePlot(ds, 2, ('boxlib', 'phi'))\n",
    "sl"
   ]
  },
  {
   "cell_type": "code",
   "execution_count": null,
   "id": "bd7332dd",
   "metadata": {},
   "outputs": [],
   "source": [
    "sl.annotate_grids()"
   ]
  }
 ],
 "metadata": {
  "kernelspec": {
   "display_name": "Python 3 (ipykernel)",
   "language": "python",
   "name": "python3"
  },
  "language_info": {
   "codemirror_mode": {
    "name": "ipython",
    "version": 3
   },
   "file_extension": ".py",
   "mimetype": "text/x-python",
   "name": "python",
   "nbconvert_exporter": "python",
   "pygments_lexer": "ipython3",
   "version": "3.9.9"
  }
 },
 "nbformat": 4,
 "nbformat_minor": 5
}
